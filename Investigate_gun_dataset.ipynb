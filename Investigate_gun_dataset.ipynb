{
 "cells": [
  {
   "cell_type": "markdown",
   "metadata": {},
   "source": [
    "# Project: Investigate a Dataset (FBI Gun Data)\n",
    "\n",
    "## Table of Contents\n",
    "<ul>\n",
    "<li><a href=\"#intro\">Introduction</a></li>\n",
    "<li><a href=\"#wrangling\">Data Wrangling</a></li>\n",
    "<li><a href=\"#eda\">Exploratory Data Analysis</a></li>\n",
    "<li><a href=\"#conclusions\">Conclusions</a></li>\n",
    "</ul>\n",
    "\n",
    "## Introduction\n",
    "\n",
    "\n",
    "#### What is the overall trend of gun purchases?\n",
    "#### What states have the highest volume of gun registrations?\n",
    "#### What states have the highest gun registrations per capita?"
   ]
  },
  {
   "cell_type": "code",
   "execution_count": null,
   "metadata": {},
   "outputs": [],
   "source": [
    "import pandas as pd\n",
    "import numpy as np\n",
    "import matplotlib.pyplot as plt\n",
    "import seaborn as sns\n",
    "%matplotlib  inline "
   ]
  },
  {
   "cell_type": "markdown",
   "metadata": {},
   "source": [
    "<a id='wrangling'></a>\n",
    "## Data Wrangling\n",
    "\n",
    "> load the data, check for cleanliness, and trim and clean the datset"
   ]
  },
  {
   "cell_type": "code",
   "execution_count": null,
   "metadata": {
    "scrolled": false
   },
   "outputs": [],
   "source": [
    "# load the data\n",
    "df_guns = pd.read_excel('data/gun-data.xlsx')\n",
    "\n",
    "df_us_census = pd.read_csv('data/U.S. Census Data.csv', sep =',')"
   ]
  },
  {
   "cell_type": "markdown",
   "metadata": {},
   "source": [
    " ####  FBI Guns Data"
   ]
  },
  {
   "cell_type": "code",
   "execution_count": null,
   "metadata": {
    "scrolled": true
   },
   "outputs": [],
   "source": [
    "df_guns.head(10)"
   ]
  },
  {
   "cell_type": "code",
   "execution_count": null,
   "metadata": {},
   "outputs": [],
   "source": [
    "df_guns.shape # check the characteristics (27) and the number of observations (12485)"
   ]
  },
  {
   "cell_type": "code",
   "execution_count": null,
   "metadata": {},
   "outputs": [],
   "source": [
    "df_guns.info()  # check the summary of the dataframe,\n",
    "                # including the number of columns and rows, data types, and number of non-null values in each column"
   ]
  },
  {
   "cell_type": "code",
   "execution_count": null,
   "metadata": {
    "scrolled": true
   },
   "outputs": [],
   "source": [
    "df_guns.isnull().sum()  # check for missing value count for each column "
   ]
  },
  {
   "cell_type": "code",
   "execution_count": null,
   "metadata": {
    "scrolled": true
   },
   "outputs": [],
   "source": [
    "df_guns.describe() # check summary statistics "
   ]
  },
  {
   "cell_type": "markdown",
   "metadata": {},
   "source": [
    "### Census Data"
   ]
  },
  {
   "cell_type": "code",
   "execution_count": null,
   "metadata": {},
   "outputs": [],
   "source": [
    "df_us_census.head(5)"
   ]
  },
  {
   "cell_type": "code",
   "execution_count": null,
   "metadata": {
    "scrolled": true
   },
   "outputs": [],
   "source": [
    "df_us_census.info() "
   ]
  },
  {
   "cell_type": "markdown",
   "metadata": {},
   "source": [
    "## Data Cleaning  \n",
    "\n",
    "trim and clean the datasets"
   ]
  },
  {
   "cell_type": "markdown",
   "metadata": {},
   "source": [
    "### FBI Guns Data\n",
    "\n",
    "After assessing the guns data, I'm going to convert month to datetime."
   ]
  },
  {
   "cell_type": "code",
   "execution_count": null,
   "metadata": {},
   "outputs": [],
   "source": [
    "#timestamps are represented as strings instead of datetime \n",
    "df_guns['month'] = pd.to_datetime(df_guns.month, format= \"%Y-%m\")\n",
    "\n",
    "df_guns.month # check for correct month data type after change"
   ]
  },
  {
   "cell_type": "markdown",
   "metadata": {},
   "source": [
    "The number of unique values in the state column shows several states/territories that are inconsistent with the US Census data."
   ]
  },
  {
   "cell_type": "code",
   "execution_count": null,
   "metadata": {},
   "outputs": [],
   "source": [
    "df_us_census.info()"
   ]
  },
  {
   "cell_type": "markdown",
   "metadata": {},
   "source": [
    "I'm going to filter and drop the states/territories that are missing from the US Census Data."
   ]
  },
  {
   "cell_type": "code",
   "execution_count": null,
   "metadata": {},
   "outputs": [],
   "source": [
    "guns = pd.Series(df_guns['state'].unique())\n",
    "census = pd.Series(df_us_census.columns[2:])\n",
    "\n",
    "missing_in_census = guns[~guns.isin(census)]\n",
    "\n",
    "missing_in_census"
   ]
  },
  {
   "cell_type": "code",
   "execution_count": null,
   "metadata": {},
   "outputs": [],
   "source": [
    "df_guns.drop = df_guns.query(\"state != ('Guam','Mariana Islands', 'Puerto Rico', 'Virgin Islands', 'District of Columbia')\", inplace=True)\n",
    "\n",
    "df_guns['state'].unique()"
   ]
  },
  {
   "cell_type": "code",
   "execution_count": null,
   "metadata": {},
   "outputs": [],
   "source": [
    "# make state lowercase for readability \n",
    "df_guns[\"state\"] = df_guns[\"state\"].str.lower() "
   ]
  },
  {
   "cell_type": "markdown",
   "metadata": {},
   "source": [
    "https://stackoverflow.com/questions/51070985/find-out-the-percentage-of-missing-values-in-each-column-in-the-given-dataset"
   ]
  },
  {
   "cell_type": "markdown",
   "metadata": {},
   "source": [
    "check the percentage of missing data in the guns dataset for every column"
   ]
  },
  {
   "cell_type": "code",
   "execution_count": null,
   "metadata": {},
   "outputs": [],
   "source": [
    "#calculate the total percentage of null values in every column of the FBI guns data\n",
    "percent_missing = df_guns.isnull().sum() * 100 / len(df_guns)\n",
    "missing_values = pd.DataFrame({'column_name': df_guns.columns,\n",
    "                                 'percent_missing': percent_missing})\n",
    "\n",
    "missing_values #the returned, rentals, and private gun types have a high percentage of missing date"
   ]
  },
  {
   "cell_type": "code",
   "execution_count": null,
   "metadata": {},
   "outputs": [],
   "source": [
    "df_guns.fillna(0,inplace=True) #filling nulls with 0"
   ]
  },
  {
   "cell_type": "code",
   "execution_count": null,
   "metadata": {},
   "outputs": [],
   "source": [
    "df_guns.info() # confirm correction with info()"
   ]
  },
  {
   "cell_type": "markdown",
   "metadata": {},
   "source": [
    "https://stackoverflow.com/questions/45985877/slicing-multiple-column-ranges-from-a-dataframe-using-iloc"
   ]
  },
  {
   "cell_type": "code",
   "execution_count": null,
   "metadata": {
    "scrolled": true
   },
   "outputs": [],
   "source": [
    "# display a histogram of - handgun, long_gun, and totals - all seem to be skewed to the right with long guns having a slightly higher number of observations in different bins\n",
    "\n",
    "df_guns.iloc[:,np.r_[4:6,26]].hist(figsize=(10,8));"
   ]
  },
  {
   "cell_type": "markdown",
   "metadata": {},
   "source": [
    "##### Data Cleaning: Census Data\n",
    "\n",
    "join the US Census data with the FBI Guns data\n",
    "\n",
    "https://pandas.pydata.org/docs/reference/api/pandas.DataFrame.transpose.html\n",
    "\n",
    "https://knowledge.udacity.com/questions/428050"
   ]
  },
  {
   "cell_type": "code",
   "execution_count": null,
   "metadata": {
    "scrolled": false
   },
   "outputs": [],
   "source": [
    "df_us_census.T.head(10) #transpose the df to swap rows and columns"
   ]
  },
  {
   "cell_type": "code",
   "execution_count": null,
   "metadata": {},
   "outputs": [],
   "source": [
    "df_us_census['Fact'].unique()  # check unique rows in the fact column"
   ]
  },
  {
   "cell_type": "code",
   "execution_count": null,
   "metadata": {
    "scrolled": true
   },
   "outputs": [],
   "source": [
    "df_us_census['Fact Note'].unique() # check unique rows in the fact note column"
   ]
  },
  {
   "cell_type": "markdown",
   "metadata": {},
   "source": [
    "create a new df and drop unncessary columns "
   ]
  },
  {
   "cell_type": "code",
   "execution_count": null,
   "metadata": {},
   "outputs": [],
   "source": [
    "#  drop columns that aren't useful since we swapped fact rows to columns\n",
    "df_us_census_2 = df_us_census.T\n",
    "df_us_census_2.columns = df_us_census_2.loc['Fact']\n",
    "df_us_census_2.drop(['Fact','Fact Note'],inplace=True)\n",
    "\n",
    "df_us_census_2.head(5)"
   ]
  },
  {
   "cell_type": "markdown",
   "metadata": {},
   "source": [
    "#### Remove all columns between column index 3 to 86 since we're only going to look at 2016 and 2010 census population data"
   ]
  },
  {
   "cell_type": "code",
   "execution_count": null,
   "metadata": {},
   "outputs": [],
   "source": [
    "df_us_census_2.drop(df_us_census_2.iloc[:, 2:86], inplace = True, axis = 1)"
   ]
  },
  {
   "cell_type": "code",
   "execution_count": null,
   "metadata": {},
   "outputs": [],
   "source": [
    "df_us_census_2.info()"
   ]
  },
  {
   "cell_type": "code",
   "execution_count": null,
   "metadata": {},
   "outputs": [],
   "source": [
    "df_us_census_2.rename(columns={\"Population estimates, July 1, 2016,  (V2016)\": \"2016_Population_Estimates\", \"Population estimates base, April 1, 2010,  (V2016)\": \"2010_Population_Estimates\"}, inplace=True)\n",
    "\n",
    "\n",
    "df_us_census_2"
   ]
  },
  {
   "cell_type": "markdown",
   "metadata": {},
   "source": [
    "I'm going to replace commas and missing spaces with underscores"
   ]
  },
  {
   "cell_type": "code",
   "execution_count": null,
   "metadata": {},
   "outputs": [],
   "source": [
    "# to join with FBI guns replace commas and missing spaces and underscores \n",
    "df_us_census_2.columns = [str(x).replace(',','_').replace(' ','_') for x in df_us_census_2.columns]\n",
    "\n"
   ]
  },
  {
   "cell_type": "code",
   "execution_count": null,
   "metadata": {},
   "outputs": [],
   "source": [
    "df_us_census_2.head()"
   ]
  },
  {
   "cell_type": "markdown",
   "metadata": {},
   "source": [
    "https://knowledge.udacity.com/questions/428050"
   ]
  },
  {
   "cell_type": "code",
   "execution_count": null,
   "metadata": {},
   "outputs": [],
   "source": [
    "df_us_census_2.info() # check index to drop columns"
   ]
  },
  {
   "cell_type": "markdown",
   "metadata": {},
   "source": [
    "https://github.com/malaklm/solution/blob/master/US%20Census%20data.ipynb"
   ]
  },
  {
   "cell_type": "markdown",
   "metadata": {},
   "source": [
    "Replace commas in dataset to convert to floats "
   ]
  },
  {
   "cell_type": "code",
   "execution_count": null,
   "metadata": {
    "scrolled": true
   },
   "outputs": [],
   "source": [
    "df_us_census_2.replace({\",\": ''}, regex=True,inplace=True)\n",
    "df_us_census_2.info()"
   ]
  },
  {
   "cell_type": "markdown",
   "metadata": {},
   "source": [
    "Convert strings to floats in order to perform calculations"
   ]
  },
  {
   "cell_type": "code",
   "execution_count": null,
   "metadata": {},
   "outputs": [],
   "source": [
    "df_us_census_2['2016_Population_Estimates'] = pd.to_numeric(df_us_census_2['2016_Population_Estimates'],errors='coerce').astype(float)\n",
    "df_us_census_2['2010_Population_Estimates'] = pd.to_numeric(df_us_census_2['2010_Population_Estimates'],errors='coerce').astype(float) \n",
    "\n",
    "df_us_census_2.info() # check if data type conversion worked"
   ]
  },
  {
   "cell_type": "code",
   "execution_count": null,
   "metadata": {},
   "outputs": [],
   "source": [
    "df_us_census_2.head(5)"
   ]
  },
  {
   "cell_type": "markdown",
   "metadata": {},
   "source": [
    "<a id='eda'></a>\n",
    "## Exploratory Data Analysis\n",
    "\n",
    "\n",
    "What is the overall trend of gun registrations?\n",
    "\n",
    "What state has the highest volume of gun registrations?\n",
    "\n",
    "What state has the highest guns per capita?\n"
   ]
  },
  {
   "cell_type": "markdown",
   "metadata": {},
   "source": [
    "### Research Question 1: What is the overall trend of gun purchases?"
   ]
  },
  {
   "cell_type": "markdown",
   "metadata": {},
   "source": [
    "Analyze average count of permits for a single variables in dataset pertaining to gun types "
   ]
  },
  {
   "cell_type": "markdown",
   "metadata": {},
   "source": [
    "https://towardsdatascience.com/build-the-story-around-data-using-exploratory-data-analysis-and-pandas-c85bf3beff87"
   ]
  },
  {
   "cell_type": "code",
   "execution_count": null,
   "metadata": {},
   "outputs": [],
   "source": [
    "# here is a statistic for understanding the distribution of gun registrations \n",
    "\n",
    "avg_handgun = df_guns['handgun'].mean() # calculate the avg number of handgun registrations across the dataframe\n",
    "\n",
    "# check frequency and distribution of hand gun registrations with a histogram\n",
    "plt.hist(df_guns.handgun)\n",
    "plt.plot()\n",
    "plt.title(\"Histogram of Hand Guns\",fontsize=15)\n",
    "plt.ylabel('Frequency of Gun Registrations', fontsize=12)\n",
    "plt.xlabel('Hand Guns', fontsize=12)\n",
    "plt.legend\n",
    "\n",
    "print(f'{avg_handgun:0,.2f}, is the average number of gun permits for handguns nationwide.')\n",
    "\n",
    "\n",
    "print('''The histogram example below represents gun registrations for handguns. \n",
    "Essentially, distribtion is positively skewed right with registrations most frequently in the 10K range, followed by 1K.''')"
   ]
  },
  {
   "cell_type": "code",
   "execution_count": null,
   "metadata": {},
   "outputs": [],
   "source": [
    "# What is the avg count of permits for long guns? calculate the mean of long guns to display average\n",
    "avg_long_gun = df_guns['long_gun'].mean()\n",
    "\n",
    "\n",
    "# check frequency and distribution of long gun registrations with a histogram\n",
    "plt.hist(df_guns.long_gun)\n",
    "plt.plot()\n",
    "plt.title(\"Histogram of Long Guns\",fontsize=15)\n",
    "plt.ylabel('Frequency of Gun Registrations', fontsize=12)\n",
    "plt.xlabel('Long Guns', fontsize=12)\n",
    "plt.legend\n",
    "\n",
    "\n",
    "print(f\"Here is the average number of long_gun registrations nationwide: {avg_long_gun:0,.2f}.\")\n",
    "print('''Consistent with handguns, long guns have similar distribution skewed to the right. \n",
    "Long guns had frequency of registrations fall within the 8k and 2k range with the number of observations mostly in the 8k bin''')"
   ]
  },
  {
   "cell_type": "code",
   "execution_count": null,
   "metadata": {
    "scrolled": true
   },
   "outputs": [],
   "source": [
    "# What is the avg count of permits for multiple gun gytpes? calculate the mean of multiple gun types to display average\n",
    "avg_multiple_gun = df_guns['multiple'].mean()\n",
    "\n",
    "\n",
    "# check frequency and distribution of multiple registrations with a histogram\n",
    "plt.hist(df_guns.multiple)\n",
    "plt.plot()\n",
    "plt.title(\"Histogram of Multiple Guns in FBI Data\",fontsize=15)\n",
    "plt.ylabel('Frequency of Gun Registrations', fontsize=12)\n",
    "plt.xlabel('Multiple Guns', fontsize=12)\n",
    "plt.legend\n",
    "\n",
    "print(f\"Here is the average count of gun registrations for multiple gun types:, {avg_multiple_gun:0,.2f}\")\n",
    "print('''The histogram shows that the data is exclsuively skewed to the right with frequency \n",
    "of registrations around 11K''')"
   ]
  },
  {
   "cell_type": "markdown",
   "metadata": {},
   "source": [
    "### Analyze Overall Purchases in the Dataset using month and totals"
   ]
  },
  {
   "cell_type": "markdown",
   "metadata": {},
   "source": [
    "https://seaborn.pydata.org/examples/timeseries_facets.html\n",
    "\n",
    "https://stackoverflow.com/questions/65300109/generating-a-line-graph-using-seaborn-or-matplotlib-with-year-as-hue-month-as"
   ]
  },
  {
   "cell_type": "code",
   "execution_count": null,
   "metadata": {},
   "outputs": [],
   "source": [
    "df_guns_q1 = df_guns #making a new df to analyze overall FBI gun permit totals in the nation"
   ]
  },
  {
   "cell_type": "code",
   "execution_count": null,
   "metadata": {},
   "outputs": [],
   "source": [
    "df_guns_q1 = df_guns_q1.reset_index(drop=True) # reset the index in case indices are out of order"
   ]
  },
  {
   "cell_type": "code",
   "execution_count": null,
   "metadata": {},
   "outputs": [],
   "source": [
    "# drop columns with high volume of nulls and to simplify analysis\n",
    "df_guns_q1.drop(['permit','permit_recheck','other','admin','prepawn_handgun','prepawn_long_gun','prepawn_other','redemption_other', 'redemption_handgun','redemption_long_gun','returned_other','rentals_handgun','rentals_long_gun','private_sale_handgun','private_sale_long_gun','private_sale_other','return_to_seller_handgun','return_to_seller_long_gun','return_to_seller_other','returned_handgun','returned_long_gun'], axis=1, inplace=True)\n",
    "\n",
    "df_guns_q1.info() # check columns are dropped"
   ]
  },
  {
   "cell_type": "code",
   "execution_count": null,
   "metadata": {},
   "outputs": [],
   "source": [
    "# figure displays overall trend of gun permits over the FBI guns time period \n",
    "sns.set_theme(style=\"darkgrid\")\n",
    "\n",
    "# calculate sum of totals for every onth\n",
    "guns_overtime = df_guns_q1.groupby(['month'])['totals'].sum()\n",
    "\n",
    "\n",
    "overtime_fig=sns.lineplot(data=guns_overtime, palette=\"crest\");\n",
    "overtime_fig.set_title('Overall Trend of Gun Permits')"
   ]
  },
  {
   "cell_type": "markdown",
   "metadata": {},
   "source": [
    "The line chart displays the month on the x-axis and totals column on the y-axis. Gun registrations remained consistent in volume for several years until 2008 through 2010 when registrations started to slightly increase and trend at a higher volume with some notable upticks in volume between 2012 and 2014 and again in 2016 to 2017. "
   ]
  },
  {
   "cell_type": "code",
   "execution_count": null,
   "metadata": {},
   "outputs": [],
   "source": [
    "# calculating total handgun and long gun sum\n",
    "handgun = df_guns_q1['handgun'].sum()\n",
    "long_gun = df_guns_q1['long_gun'].sum()\n",
    "handgun,long_gun # long gun permits were more prevalent in dataset"
   ]
  },
  {
   "cell_type": "markdown",
   "metadata": {},
   "source": [
    "Comparing hand gun and long gun types shows that long guns accounted for a higher proportion of registrations nationwide"
   ]
  },
  {
   "cell_type": "markdown",
   "metadata": {},
   "source": [
    "https://pythonspot.com/matplotlib-bar-chart/"
   ]
  },
  {
   "cell_type": "code",
   "execution_count": null,
   "metadata": {},
   "outputs": [],
   "source": [
    "# create a list of gun types and the total sums \n",
    "guns = ['handgun','long_gun']\n",
    "totals = [handgun , long_gun ]\n",
    "\n",
    "# create a ndarray with the above gun type values \n",
    "gun_types = np.arange(len(guns))\n",
    "\n",
    "# compare hand gun and long gun difference in a bar plot\n",
    "plt.bar(gun_types, totals, align='center', alpha=0.5)\n",
    "plt.xticks(gun_types, guns)\n",
    "plt.ylabel('Gun Registrations')\n",
    "plt.xlabel('Gun Types')\n",
    "plt.title('Gun Type Comparison')\n",
    "\n",
    "plt.show()"
   ]
  },
  {
   "cell_type": "markdown",
   "metadata": {},
   "source": [
    "The plotly bar chart uses the gun types (hand gun and long gun) on the x-axis while gun registration totals is shown on the y-axis. The figure shows long gun registrations overall made up a larger share of gun registraitons in the nation, with roughly a quarter more than handguns "
   ]
  },
  {
   "cell_type": "markdown",
   "metadata": {},
   "source": [
    "### Research Question 2: What state has the highest volume of gun registrations?"
   ]
  },
  {
   "cell_type": "markdown",
   "metadata": {},
   "source": [
    "https://pandas.pydata.org/docs/reference/api/pandas.DataFrame.sort_values.html"
   ]
  },
  {
   "cell_type": "code",
   "execution_count": null,
   "metadata": {},
   "outputs": [],
   "source": [
    "# calculate totals by state and show top five by totals\n",
    "df_guns_q1_totals = df_guns_q1.groupby(['state'],as_index=False).sum().sort_values(by='totals', ascending=False).head(5)\n",
    "df_guns_q1_totals"
   ]
  },
  {
   "cell_type": "markdown",
   "metadata": {},
   "source": [
    "the calculation depicts the top five states for overall gun registrations, showing kentucky as the state with the highest totals in the nation"
   ]
  },
  {
   "cell_type": "markdown",
   "metadata": {},
   "source": [
    "https://pandas.pydata.org/docs/reference/api/pandas.DataFrame.plot.bar.html"
   ]
  },
  {
   "cell_type": "markdown",
   "metadata": {},
   "source": [
    "https://pythonbasics.org/seaborn-barplot/"
   ]
  },
  {
   "cell_type": "code",
   "execution_count": null,
   "metadata": {},
   "outputs": [],
   "source": [
    "# display top five states by overall gun registration volumes in a bar plot\n",
    "sns.barplot(x = \"state\", y = \"totals\", hue =\"state\", data = df_guns_q1_totals,\n",
    "            palette = \"Blues\",\n",
    "            capsize = 0.05,             \n",
    "            saturation = 8,             \n",
    "            errcolor = 'b', errwidth = 5,  \n",
    "            ci = 'sd'   \n",
    "            ).set_title('Top Five States with the Highest Volume of Gun Permits')"
   ]
  },
  {
   "cell_type": "markdown",
   "metadata": {},
   "source": [
    "The barplot shows the top five states in the nation for overall gun registrations with the totals column on the y-axis and state column on the x-axis. The figure shows that California and Texas (both with comparable population sizes) having an almost even number of gun registration totals"
   ]
  },
  {
   "cell_type": "markdown",
   "metadata": {},
   "source": [
    "### Research Question 3: What state had the highest per capita gun registrations in 2010?"
   ]
  },
  {
   "cell_type": "code",
   "execution_count": null,
   "metadata": {},
   "outputs": [],
   "source": [
    "#Get all the 2010 data from FBI Guns\n",
    "guns_2010 = df_guns[df_guns.month == '2010']\n",
    "\n",
    "guns_2010.head()"
   ]
  },
  {
   "cell_type": "code",
   "execution_count": null,
   "metadata": {},
   "outputs": [],
   "source": [
    "guns_2010.set_index('state',inplace=True,drop=True) # reset index to prevent out of order indices\n",
    "guns_2010.head(5)"
   ]
  },
  {
   "cell_type": "code",
   "execution_count": null,
   "metadata": {},
   "outputs": [],
   "source": [
    "df_us_census_2.info() # check for changes"
   ]
  },
  {
   "cell_type": "code",
   "execution_count": null,
   "metadata": {},
   "outputs": [],
   "source": [
    "df_us_census_2.info()"
   ]
  },
  {
   "cell_type": "code",
   "execution_count": null,
   "metadata": {},
   "outputs": [],
   "source": [
    "# create dataframe with 2010 population data column\n",
    "\n",
    "df_us_census_2010 = df_us_census_2['2010_Population_Estimates']\n",
    "df_us_census_2010.to_frame().head()\n"
   ]
  },
  {
   "cell_type": "code",
   "execution_count": null,
   "metadata": {},
   "outputs": [],
   "source": [
    "guns_2010.index = [x.title() for x in guns_2010.index] #capitalize the titles in the guns data to match census data\n",
    "\n",
    "guns_2010.head() #check top few rows worked"
   ]
  },
  {
   "cell_type": "code",
   "execution_count": null,
   "metadata": {},
   "outputs": [],
   "source": [
    "df_us_census_2010.to_frame().join(guns_2010) # join FBI guns and 2010 census data"
   ]
  },
  {
   "cell_type": "code",
   "execution_count": null,
   "metadata": {},
   "outputs": [],
   "source": [
    "df_us_census_2010 = df_us_census_2010.to_frame().join(guns_2010) #join 2010 census and guns data and name with a new df\n",
    "\n",
    "# df_us_census_2010.info() #check join worked"
   ]
  },
  {
   "cell_type": "code",
   "execution_count": null,
   "metadata": {},
   "outputs": [],
   "source": [
    "# calculate per capita gun registrations in 2010 \n",
    "percapita_2010 = df_us_census_2010['totals']/df_us_census_2010['2010_Population_Estimates']\n",
    "\n",
    "percapita_2010_ = percapita_2010.sort_values(ascending=False).head(10)\n",
    "\n",
    "percapita_2010_"
   ]
  },
  {
   "cell_type": "markdown",
   "metadata": {},
   "source": [
    "Kentucky had the highest per capita gun registrations in 2010, with more than double the number of registrations that Utah had, the state with the second highest per capita amount"
   ]
  },
  {
   "cell_type": "code",
   "execution_count": null,
   "metadata": {
    "scrolled": true
   },
   "outputs": [],
   "source": [
    "# create a plot with the top 10 states for 2010 per capita gun registrations\n",
    "percapita_2010_.plot(x='state', y='totals',\n",
    "                        kind='bar', color=['orange']);\n",
    "plt.title(\"Per Capita Gun Registrations (2010)\",fontsize=15)\n",
    "plt.ylabel('Per Capita Gun Registrations Count', fontsize=12)\n",
    "plt.xlabel('Top Ten States Per Capita',fontsize=12)\n",
    "plt.legend"
   ]
  },
  {
   "cell_type": "markdown",
   "metadata": {},
   "source": [
    "The barplot shows the totals (gun registrations) column on the y-axis and the state column on the x-axis. Kentucy had a disproportionately higher per capita gun registration count in 2010 compared to any other state in the top ten list"
   ]
  },
  {
   "cell_type": "markdown",
   "metadata": {},
   "source": [
    "### Research Question 4: What state had the highest per capita gun registrations in 2016?"
   ]
  },
  {
   "cell_type": "code",
   "execution_count": null,
   "metadata": {},
   "outputs": [],
   "source": [
    "#Get all the 2016 data\n",
    "guns_2016 = df_guns[df_guns.month == '2016']\n",
    "\n",
    "guns_2016.head()"
   ]
  },
  {
   "cell_type": "code",
   "execution_count": null,
   "metadata": {},
   "outputs": [],
   "source": [
    "guns_2016.set_index('state',inplace=True,drop=True) # reset indices incase out of order"
   ]
  },
  {
   "cell_type": "code",
   "execution_count": null,
   "metadata": {},
   "outputs": [],
   "source": [
    "# create df with 2016 census population\n",
    "df_us_census_2016 = df_us_census_2['2016_Population_Estimates']\n",
    "df_us_census_2016.to_frame().head()"
   ]
  },
  {
   "cell_type": "markdown",
   "metadata": {},
   "source": [
    "https://knowledge.udacity.com/questions/574175"
   ]
  },
  {
   "cell_type": "code",
   "execution_count": null,
   "metadata": {},
   "outputs": [],
   "source": [
    "guns_2016.index = [x.title() for x in guns_2016.index] #capitalize state to match with census state column"
   ]
  },
  {
   "cell_type": "code",
   "execution_count": null,
   "metadata": {},
   "outputs": [],
   "source": [
    "df_us_census_2016.to_frame().join(guns_2016).head() #join funs and 2016 data"
   ]
  },
  {
   "cell_type": "code",
   "execution_count": null,
   "metadata": {
    "scrolled": true
   },
   "outputs": [],
   "source": [
    "df_us_census_2016 = df_us_census_2016.to_frame().join(guns_2016).head() #create new df name with 2016 census and guns data\n",
    "\n",
    "# df_us_census_2016.info()"
   ]
  },
  {
   "cell_type": "code",
   "execution_count": null,
   "metadata": {
    "scrolled": true
   },
   "outputs": [],
   "source": [
    "# calculate 2016 per capita \n",
    "percapita_2016 = df_us_census_2016['totals']/df_us_census_2016['2016_Population_Estimates']\n",
    "\n",
    "percap_top_10_2016 = percapita_2016.sort_values(ascending=False).head(10)\n",
    "\n",
    "percap_top_10_2016"
   ]
  },
  {
   "cell_type": "markdown",
   "metadata": {},
   "source": [
    "Consistent with 2010 analysis, Kentucky remained the top state for per capita gun registrations in 2016. The state continued to account for double the amount of registrations although in this year, the second top state (Indiana) had a larger share of per capita registrations than Utah did (the second highest state for per capita registrations in 2010). In general the top states had more gun registrations in 2016 than 2010, indicating an overall upwards trend in gun registrations over time "
   ]
  },
  {
   "cell_type": "markdown",
   "metadata": {},
   "source": [
    "The figure depicts top ten states by per capita gun registrations, showing the state of Kentucky with more than double the per capita gun registration totals than any other state"
   ]
  },
  {
   "cell_type": "code",
   "execution_count": null,
   "metadata": {},
   "outputs": [],
   "source": [
    "# display plot figure with the top 2016 per capita states\n",
    "percap_top_10_2016.plot(x='state', y='totals',\n",
    "                        kind='bar',\n",
    "                        title=\"Per Capita Gun Registrations (2016)\", color=['green']);\n",
    "plt.title(\"Per Capita Gun Registrations (2016)\",fontsize=15)\n",
    "plt.ylabel('Per Capita Gun Registrations Count', fontsize=12)\n",
    "plt.xlabel('Top Ten States Per Capita',fontsize=12)\n",
    "plt.legend"
   ]
  },
  {
   "cell_type": "markdown",
   "metadata": {},
   "source": [
    "The barplot shows states on the x-axis and per capita gun registration on the y-axis based on the above per capita calculation. Kentucky again is seen with the highest count per capita, followed by indiana. The remaining states all had a relatively even amount of gun registrations in 2016"
   ]
  },
  {
   "cell_type": "markdown",
   "metadata": {},
   "source": [
    "<a id='conclusions'></a>\n",
    "## Conclusions\n",
    "\n",
    "\n",
    "Overall, the FBI Guns dataset showed gun permits increased over time, from 1998 through 2017. There were two noticeable spikes observed towards the end of the period, between 2013 and 2014 and again in 2016 to 2017. When comparing the two largest gun types (handguns and long guns), long guns accounted for 23 million more gun registrations.\n",
    "\n",
    "According to the FBI Guns data, Kentucky accounted for the highest volume of total gun permits in the nation and had more than double the per capita gun registrations of any other state in both 2010 and 2016. The top ten states for gun registrations per capita generally remained the same in 2010 and 2016 with the exception of three states. \n",
    "\n",
    "Limitations: The US Census Data did not include several states/territories and only contained population data for 2010 and 2016 which limited the per capita analysis. \n",
    "\n",
    "The FBI Guns data had a high percentage of missing values which limited what you could use for the analysis. Additionally, \n",
    "sources indicated that there are varying state laws that impact the quality of data in the NICS dataset.\n",
    "\n",
    "source: https://github.com/BuzzFeedNews/nics-firearm-background-checks\n"
   ]
  }
 ],
 "metadata": {
  "kernelspec": {
   "display_name": "Python 3 (ipykernel)",
   "language": "python",
   "name": "python3"
  },
  "language_info": {
   "codemirror_mode": {
    "name": "ipython",
    "version": 3
   },
   "file_extension": ".py",
   "mimetype": "text/x-python",
   "name": "python",
   "nbconvert_exporter": "python",
   "pygments_lexer": "ipython3",
   "version": "3.9.12"
  }
 },
 "nbformat": 4,
 "nbformat_minor": 2
}
